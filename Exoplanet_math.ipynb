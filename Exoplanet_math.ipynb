{
  "nbformat": 4,
  "nbformat_minor": 0,
  "metadata": {
    "colab": {
      "provenance": [],
      "authorship_tag": "ABX9TyP1njn66QxpFzrd+xyaBnKX",
      "include_colab_link": true
    },
    "kernelspec": {
      "name": "python3",
      "display_name": "Python 3"
    },
    "language_info": {
      "name": "python"
    }
  },
  "cells": [
    {
      "cell_type": "markdown",
      "metadata": {
        "id": "view-in-github",
        "colab_type": "text"
      },
      "source": [
        "<a href=\"https://colab.research.google.com/github/Kaitlynn218/Exoplanets/blob/main/Exoplanet_math.ipynb\" target=\"_parent\"><img src=\"https://colab.research.google.com/assets/colab-badge.svg\" alt=\"Open In Colab\"/></a>"
      ]
    },
    {
      "cell_type": "code",
      "execution_count": null,
      "metadata": {
        "id": "eNpvUzjLn6np"
      },
      "outputs": [],
      "source": [
        "import numpy as np\n",
        "import astropy.units as u\n",
        "import astropy.constants as ac"
      ]
    },
    {
      "cell_type": "markdown",
      "source": [
        "We are calculating the duration of an Earth transiting the Sun, t=d/v, where d is the diameter of the Sun and v is the orbital velocity of the Earth"
      ],
      "metadata": {
        "id": "iECtZzpfqcWG"
      }
    },
    {
      "cell_type": "code",
      "source": [
        "d = 2* u.solRad # diameter of the sun"
      ],
      "metadata": {
        "id": "-rTLSJR6qUd0"
      },
      "execution_count": null,
      "outputs": []
    },
    {
      "cell_type": "code",
      "source": [
        "a = 1* u.AU\n",
        "v = np.sqrt (ac.G * u.solMass/ a) #orbital velocity of Earth\n",
        "print(v.to(u.m/u.s))"
      ],
      "metadata": {
        "colab": {
          "base_uri": "https://localhost:8080/"
        },
        "id": "vxSk49x8qxhC",
        "outputId": "fc580b22-fdeb-4ddc-b64c-ff7d4ba5e6ad"
      },
      "execution_count": null,
      "outputs": [
        {
          "output_type": "stream",
          "name": "stdout",
          "text": [
            "29784.691829676933 m / s\n"
          ]
        }
      ]
    },
    {
      "cell_type": "code",
      "source": [
        "t= d/v\n",
        "print(t.to(u.hour)) #time it takes earth to transit the sun"
      ],
      "metadata": {
        "colab": {
          "base_uri": "https://localhost:8080/"
        },
        "id": "-EE-1xjgr3zt",
        "outputId": "db171928-89c4-4176-85a6-d1f97b649267"
      },
      "execution_count": null,
      "outputs": [
        {
          "output_type": "stream",
          "name": "stdout",
          "text": [
            "12.976464628547822 h\n"
          ]
        }
      ]
    },
    {
      "cell_type": "markdown",
      "source": [
        "We are calculating the duration of Jupiter transiting the Sun, t=d/v, where d is the diameter of the Sun and v is the orbital velocity of Jupiter; We are calculating the transit depth of Jupiter transiting the Sun,"
      ],
      "metadata": {
        "id": "76AV1wFmsh04"
      }
    },
    {
      "cell_type": "code",
      "source": [
        "delta = (u.jupiterRad / u.solRad)**2 #transit depth of Jupiter transiting the sun\n",
        "print(\"The transit depth = \", delta.decompose())"
      ],
      "metadata": {
        "colab": {
          "base_uri": "https://localhost:8080/"
        },
        "id": "rXGPWAbwtFTW",
        "outputId": "6d863bee-d81c-403e-a28f-faa41dc27f00"
      },
      "execution_count": null,
      "outputs": [
        {
          "output_type": "stream",
          "name": "stdout",
          "text": [
            "The transit depth =  0.0105602\n"
          ]
        }
      ]
    },
    {
      "cell_type": "code",
      "source": [
        "a = 5*u.AU\n",
        "v_Jupiter = np.sqrt(ac.G * u.solMass / a) #orbital velcoity of Jupiter\n",
        "print(v_Jupiter.to(u.m/u.s))"
      ],
      "metadata": {
        "colab": {
          "base_uri": "https://localhost:8080/"
        },
        "id": "ti-C_lxUux4F",
        "outputId": "1c0bb914-705f-4ace-80e9-4fc5c6d6984e"
      },
      "execution_count": null,
      "outputs": [
        {
          "output_type": "stream",
          "name": "stdout",
          "text": [
            "13320.119124008042 m / s\n"
          ]
        }
      ]
    },
    {
      "cell_type": "code",
      "source": [
        "t_Jupiter = d/v_Jupiter\n",
        "print(t_Jupiter.to(u.hour)) #time it takes Jupiter to tranist the sun"
      ],
      "metadata": {
        "colab": {
          "base_uri": "https://localhost:8080/"
        },
        "id": "hITebvDAvLui",
        "outputId": "e5b18ba1-ba3a-430f-e976-02395f6d22fa"
      },
      "execution_count": null,
      "outputs": [
        {
          "output_type": "stream",
          "name": "stdout",
          "text": [
            "29.01625701705449 h\n"
          ]
        }
      ]
    },
    {
      "cell_type": "code",
      "source": [
        "v_Earth = 30 * (u.km/u.s)\n",
        "v_Sun = (u.earthMass/u.solMass) * v_Earth\n",
        "print(v_Sun.to(u.cm/u.s)) #the amount the Sun moves caused by the movement of Earth"
      ],
      "metadata": {
        "colab": {
          "base_uri": "https://localhost:8080/"
        },
        "id": "kwCgnzEPxCcE",
        "outputId": "58229b93-b0f8-4397-943d-14f0a5ae97d2"
      },
      "execution_count": null,
      "outputs": [
        {
          "output_type": "stream",
          "name": "stdout",
          "text": [
            "9.01046804655238 cm / s\n"
          ]
        }
      ]
    },
    {
      "cell_type": "code",
      "source": [
        "v_sun = (u.jupiterMass / u.solMass) * v_Jupiter\n",
        "print(v_sun.to(u.m/u.s)) #the amount the Sun moves caused by the movement of Jupiter"
      ],
      "metadata": {
        "colab": {
          "base_uri": "https://localhost:8080/"
        },
        "id": "pyXqMw1YyLp8",
        "outputId": "2a58be4d-9339-4311-bea9-8fe11c95b680"
      },
      "execution_count": null,
      "outputs": [
        {
          "output_type": "stream",
          "name": "stdout",
          "text": [
            "12.715308911562614 m / s\n"
          ]
        }
      ]
    }
  ]
}